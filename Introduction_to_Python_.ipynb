{
  "nbformat": 4,
  "nbformat_minor": 0,
  "metadata": {
    "colab": {
      "name": "Introduction to Python .ipynb",
      "provenance": [],
      "collapsed_sections": [],
      "include_colab_link": true
    },
    "kernelspec": {
      "display_name": "Python 3",
      "language": "python",
      "name": "python3"
    },
    "language_info": {
      "codemirror_mode": {
        "name": "ipython",
        "version": 3
      },
      "file_extension": ".py",
      "mimetype": "text/x-python",
      "name": "python",
      "nbconvert_exporter": "python",
      "pygments_lexer": "ipython3",
      "version": "3.7.0"
    }
  },
  "cells": [
    {
      "cell_type": "markdown",
      "metadata": {
        "id": "view-in-github",
        "colab_type": "text"
      },
      "source": [
        "<a href=\"https://colab.research.google.com/github/priyaanto/ADVC62Project/blob/master/Introduction_to_Python_.ipynb\" target=\"_parent\"><img src=\"https://colab.research.google.com/assets/colab-badge.svg\" alt=\"Open In Colab\"/></a>"
      ]
    },
    {
      "cell_type": "markdown",
      "metadata": {
        "id": "xpmqC8vGZRIK"
      },
      "source": [
        " # Getting Started with Python"
      ]
    },
    {
      "cell_type": "markdown",
      "metadata": {
        "id": "a5zByzCBqNS8"
      },
      "source": [
        "**Python (programming language)**\n",
        "\n",
        "Python is an interpreted, high-level and general-purpose programming language. \n",
        "\n",
        "Python's design philosophy emphasizes code readability with its notable use of significant indentation.\n",
        "\n",
        "Its language constructs and object-oriented approach aim to help programmers write clear, logical code for small and large-scale projects."
      ]
    },
    {
      "cell_type": "markdown",
      "metadata": {
        "id": "dORsaq6ErxUG"
      },
      "source": [
        "https://en.wikipedia.org/wiki/Python_(programming_language)"
      ]
    },
    {
      "cell_type": "markdown",
      "metadata": {
        "id": "RNwB_fhKrsHi"
      },
      "source": [
        "https://www.python.org/doc/"
      ]
    },
    {
      "cell_type": "markdown",
      "metadata": {
        "id": "ok8dqLoTZRIP"
      },
      "source": [
        "![image.png](data:image/png;base64,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)\n",
        "## Variables : Store your Value in me!\n",
        "***\n",
        "\n",
        "In the code below we begin to explore how we can use a variable to which a string can be assigned. This can be extremely useful in many cases, where you can call the variable instead of typing the string everytime. This not only makes our code clean but it also makes it less redundant. \n",
        "Example syntax to assign a value or expression to a variable,\n",
        "\n",
        "variable_name = value or expression\n",
        "\n",
        "Now let's get coding!!. With the below block of code showing how to assign a string to variable.\n",
        "\n"
      ]
    },
    {
      "cell_type": "markdown",
      "metadata": {
        "id": "tHz0cy8hZRIS"
      },
      "source": [
        "### Instructions:\n",
        "* Create a Variable `s` and store the value `'New York'` in it.\n",
        "* Print the value of `s`\n",
        "* print the type of `s` using `type()`\n",
        "* print the len using `len`"
      ]
    },
    {
      "cell_type": "code",
      "metadata": {
        "ExecuteTime": {
          "end_time": "2017-09-25T05:48:54.171197Z",
          "start_time": "2017-09-25T05:48:54.160141Z"
        },
        "id": "3btB88vaZRIU",
        "colab": {
          "base_uri": "https://localhost:8080/",
          "height": 35
        },
        "outputId": "0a036a7f-ed4a-4f14-9f81-fa115df9621c"
      },
      "source": [
        "s='New York'\n",
        "s"
      ],
      "execution_count": null,
      "outputs": [
        {
          "output_type": "execute_result",
          "data": {
            "application/vnd.google.colaboratory.intrinsic+json": {
              "type": "string"
            },
            "text/plain": [
              "'New York'"
            ]
          },
          "metadata": {
            "tags": []
          },
          "execution_count": 3
        }
      ]
    },
    {
      "cell_type": "code",
      "metadata": {
        "colab": {
          "base_uri": "https://localhost:8080/"
        },
        "id": "CYWGReUu3PlL",
        "outputId": "2cd7386d-9f76-4836-c19c-b6aaa2bae069"
      },
      "source": [
        "print(s)"
      ],
      "execution_count": null,
      "outputs": [
        {
          "output_type": "stream",
          "text": [
            "New York\n"
          ],
          "name": "stdout"
        }
      ]
    },
    {
      "cell_type": "code",
      "metadata": {
        "id": "O2nXXqf7bd7t",
        "colab": {
          "base_uri": "https://localhost:8080/"
        },
        "outputId": "4ca93ebb-724e-4c93-c114-2b61418e88d5"
      },
      "source": [
        "type(s)"
      ],
      "execution_count": null,
      "outputs": [
        {
          "output_type": "execute_result",
          "data": {
            "text/plain": [
              "str"
            ]
          },
          "metadata": {
            "tags": []
          },
          "execution_count": 5
        }
      ]
    },
    {
      "cell_type": "code",
      "metadata": {
        "id": "11EMf52sbggF",
        "colab": {
          "base_uri": "https://localhost:8080/"
        },
        "outputId": "cc72e5e9-6c62-430e-87d8-fd7c614c9544"
      },
      "source": [
        "len(s)"
      ],
      "execution_count": null,
      "outputs": [
        {
          "output_type": "execute_result",
          "data": {
            "text/plain": [
              "8"
            ]
          },
          "metadata": {
            "tags": []
          },
          "execution_count": 6
        }
      ]
    },
    {
      "cell_type": "markdown",
      "metadata": {
        "id": "2frev-kXZRIh"
      },
      "source": [
        "### Instructions:\n",
        "* Create two variables `a` and `b` and store the value as `\"I Love \"` and `\"Icecream\"` respectively.\n",
        "* Add both the variables and print it"
      ]
    },
    {
      "cell_type": "code",
      "metadata": {
        "id": "uV_WS1IcZRIi",
        "colab": {
          "base_uri": "https://localhost:8080/",
          "height": 35
        },
        "outputId": "724a2b36-57c6-4f2a-ace6-8e6f4698c292"
      },
      "source": [
        "a='I Love '\n",
        "b='Icecream'\n",
        "a+b"
      ],
      "execution_count": null,
      "outputs": [
        {
          "output_type": "execute_result",
          "data": {
            "application/vnd.google.colaboratory.intrinsic+json": {
              "type": "string"
            },
            "text/plain": [
              "'I Love Icecream'"
            ]
          },
          "metadata": {
            "tags": []
          },
          "execution_count": 7
        }
      ]
    },
    {
      "cell_type": "markdown",
      "metadata": {
        "id": "Zcecc5FIZRIp"
      },
      "source": [
        "![image.png](data:image/png;base64,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)\n",
        "### String Indexing\n",
        "We know strings are a sequence, which means Python can use indexes to call parts of the sequence. Let's learn how this works.\n",
        "\n",
        "In Python, we use brackets [ ] after an object to call its index. We should also note that indexing starts at 0 for Python. Let's create a new object called s and the walk through a few examples of indexing."
      ]
    },
    {
      "cell_type": "markdown",
      "metadata": {
        "id": "HrC091JrZRIr"
      },
      "source": [
        "### Instructions\n",
        "* Assign string 'Hello World' to the variable `s` \n",
        "* Print the object `s`"
      ]
    },
    {
      "cell_type": "code",
      "metadata": {
        "id": "ctl4uWFFZRIs",
        "colab": {
          "base_uri": "https://localhost:8080/",
          "height": 35
        },
        "outputId": "2b4d9b69-36cc-4346-98bf-f2d49eeb97e5"
      },
      "source": [
        "s='Hello World'\n",
        "s"
      ],
      "execution_count": null,
      "outputs": [
        {
          "output_type": "execute_result",
          "data": {
            "application/vnd.google.colaboratory.intrinsic+json": {
              "type": "string"
            },
            "text/plain": [
              "'Hello World'"
            ]
          },
          "metadata": {
            "tags": []
          },
          "execution_count": 8
        }
      ]
    },
    {
      "cell_type": "markdown",
      "metadata": {
        "id": "ZxQ7JATRZRIx"
      },
      "source": [
        "### Instructions\n",
        "* Print the First element of string `s` that you have printed above."
      ]
    },
    {
      "cell_type": "code",
      "metadata": {
        "id": "MJo-hWzGZRIy",
        "colab": {
          "base_uri": "https://localhost:8080/",
          "height": 35
        },
        "outputId": "03c9d3f7-046a-4110-ff8c-c43450980ff2"
      },
      "source": [
        "# Show first element (in this case a letter)\n",
        "s[0]"
      ],
      "execution_count": null,
      "outputs": [
        {
          "output_type": "execute_result",
          "data": {
            "application/vnd.google.colaboratory.intrinsic+json": {
              "type": "string"
            },
            "text/plain": [
              "'H'"
            ]
          },
          "metadata": {
            "tags": []
          },
          "execution_count": 9
        }
      ]
    },
    {
      "cell_type": "code",
      "metadata": {
        "colab": {
          "base_uri": "https://localhost:8080/",
          "height": 35
        },
        "id": "0xiKyxc14XE5",
        "outputId": "241f572a-54b0-41b3-a0af-aa4b65e2f49b"
      },
      "source": [
        "s[4]"
      ],
      "execution_count": null,
      "outputs": [
        {
          "output_type": "execute_result",
          "data": {
            "application/vnd.google.colaboratory.intrinsic+json": {
              "type": "string"
            },
            "text/plain": [
              "'o'"
            ]
          },
          "metadata": {
            "tags": []
          },
          "execution_count": 10
        }
      ]
    },
    {
      "cell_type": "code",
      "metadata": {
        "colab": {
          "base_uri": "https://localhost:8080/",
          "height": 35
        },
        "id": "lvUgFPMO4qfG",
        "outputId": "bd3f4b75-b0d3-40b9-e4a3-ca9c15cecc96"
      },
      "source": [
        "s[-1]"
      ],
      "execution_count": null,
      "outputs": [
        {
          "output_type": "execute_result",
          "data": {
            "application/vnd.google.colaboratory.intrinsic+json": {
              "type": "string"
            },
            "text/plain": [
              "'d'"
            ]
          },
          "metadata": {
            "tags": []
          },
          "execution_count": 11
        }
      ]
    },
    {
      "cell_type": "code",
      "metadata": {
        "colab": {
          "base_uri": "https://localhost:8080/",
          "height": 35
        },
        "id": "1cvp61GQ5BVN",
        "outputId": "c70500d2-f92a-454c-ad66-db30e660034f"
      },
      "source": [
        "s[-5]"
      ],
      "execution_count": null,
      "outputs": [
        {
          "output_type": "execute_result",
          "data": {
            "application/vnd.google.colaboratory.intrinsic+json": {
              "type": "string"
            },
            "text/plain": [
              "'W'"
            ]
          },
          "metadata": {
            "tags": []
          },
          "execution_count": 12
        }
      ]
    },
    {
      "cell_type": "markdown",
      "metadata": {
        "ExecuteTime": {
          "end_time": "2017-09-19T11:18:05.674928Z",
          "start_time": "2017-09-19T11:18:05.661334Z"
        },
        "id": "409o3x4xZRI4"
      },
      "source": [
        "![image.png](data:image/png;base64,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)\n",
        "\n",
        "## Basic Built-in String methods\n",
        "\n",
        "***\n",
        "Objects in Python usually have built-in methods. These methods are functions inside the object (we will learn about these in much more depth later) that can perform actions or commands on the object itself.\n",
        "\n",
        "We call methods with a period and then the method name. Methods are in the form:\n",
        "\n",
        "object.method(parameters)\n",
        "\n",
        "Where parameters are extra arguments we can pass into the method. Don't worry if the details don't make 100% sense right now. Later on we will be creating our own objects and functions!\n",
        "\n",
        "Let's try some examples of built-in methods in strings:"
      ]
    },
    {
      "cell_type": "markdown",
      "metadata": {
        "id": "tIk5YS-_ZRI5"
      },
      "source": [
        "### Instructions\n",
        "* Assign a string `\"Hello World\"` to the varibale `s`\n",
        "* Use `.upper()` function on `s` variable and print it(i.e it converts each element into Upper case)\n",
        "* Use `.lower()` function on `s` variable and print it(i.e it converts each element into Lower case)"
      ]
    },
    {
      "cell_type": "code",
      "metadata": {
        "colab": {
          "base_uri": "https://localhost:8080/",
          "height": 35
        },
        "id": "T-5t0ydf5al2",
        "outputId": "e5d4c3b4-83f2-4a04-f934-610a61473c0b"
      },
      "source": [
        "s"
      ],
      "execution_count": null,
      "outputs": [
        {
          "output_type": "execute_result",
          "data": {
            "application/vnd.google.colaboratory.intrinsic+json": {
              "type": "string"
            },
            "text/plain": [
              "'Hello World'"
            ]
          },
          "metadata": {
            "tags": []
          },
          "execution_count": 13
        }
      ]
    },
    {
      "cell_type": "code",
      "metadata": {
        "ExecuteTime": {
          "end_time": "2017-09-20T09:29:42.931594Z",
          "start_time": "2017-09-20T09:29:42.922130Z"
        },
        "id": "zb3iuPRmZRI5",
        "colab": {
          "base_uri": "https://localhost:8080/"
        },
        "outputId": "9cae3233-e1f0-443b-8049-6639978ffd30"
      },
      "source": [
        "## Convert all the element of the string to Upper case..!!\n",
        "print(s.upper())\n",
        "\n",
        "\n"
      ],
      "execution_count": null,
      "outputs": [
        {
          "output_type": "stream",
          "text": [
            "HELLO WORLD\n"
          ],
          "name": "stdout"
        }
      ]
    },
    {
      "cell_type": "code",
      "metadata": {
        "colab": {
          "base_uri": "https://localhost:8080/"
        },
        "id": "l210PwQj5h9l",
        "outputId": "7eacb6de-f54f-4468-a1e2-e3cce0d1834f"
      },
      "source": [
        "## Convert all the element of the string to Lower case..!!\n",
        "print(s.lower())"
      ],
      "execution_count": null,
      "outputs": [
        {
          "output_type": "stream",
          "text": [
            "hello world\n"
          ],
          "name": "stdout"
        }
      ]
    },
    {
      "cell_type": "markdown",
      "metadata": {
        "id": "6o78fk4kZRI-"
      },
      "source": [
        "\n",
        "Now that you have learnt how to store a string in a variable, let's see how you can get input from a user "
      ]
    },
    {
      "cell_type": "markdown",
      "metadata": {
        "id": "bGmQR8tqZRI-"
      },
      "source": [
        "### Instructions\n",
        "* Assign `input('Whats your name? ' )` to variable `name`"
      ]
    },
    {
      "cell_type": "code",
      "metadata": {
        "id": "aDqoOW_pZRJA",
        "colab": {
          "base_uri": "https://localhost:8080/"
        },
        "outputId": "7d075025-2afc-4089-8289-b62845ffad8d"
      },
      "source": [
        "name=input(\"What's your name?\")\n"
      ],
      "execution_count": null,
      "outputs": [
        {
          "output_type": "stream",
          "text": [
            "What's your name?Rahul\n"
          ],
          "name": "stdout"
        }
      ]
    },
    {
      "cell_type": "code",
      "metadata": {
        "colab": {
          "base_uri": "https://localhost:8080/",
          "height": 35
        },
        "id": "03uDAhJp6PJM",
        "outputId": "264f960a-03dd-4407-d185-f842a7de98df"
      },
      "source": [
        "name"
      ],
      "execution_count": null,
      "outputs": [
        {
          "output_type": "execute_result",
          "data": {
            "application/vnd.google.colaboratory.intrinsic+json": {
              "type": "string"
            },
            "text/plain": [
              "'Rahul'"
            ]
          },
          "metadata": {
            "tags": []
          },
          "execution_count": 17
        }
      ]
    },
    {
      "cell_type": "markdown",
      "metadata": {
        "id": "l3aGw-Q0ZRJF"
      },
      "source": [
        "![image.png](data:image/png;base64,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)\n",
        "<br />\n",
        "\n",
        "### Mini Challenge\n",
        "***\n",
        "Its your turn now!! store the word `hello` in my_string. print the my_string + name. "
      ]
    },
    {
      "cell_type": "code",
      "metadata": {
        "id": "mfeCgzQYZRJH",
        "colab": {
          "base_uri": "https://localhost:8080/"
        },
        "outputId": "e088e139-577b-4942-b0df-75bb6e76ce3c"
      },
      "source": [
        "my_string='Hello '\n",
        "print(my_string + name)"
      ],
      "execution_count": null,
      "outputs": [
        {
          "output_type": "stream",
          "text": [
            "Hello Rahul\n"
          ],
          "name": "stdout"
        }
      ]
    },
    {
      "cell_type": "markdown",
      "metadata": {
        "ExecuteTime": {
          "end_time": "2017-09-19T10:03:27.500870Z",
          "start_time": "2017-09-19T10:03:27.495827Z"
        },
        "id": "erYI8KoIZRJL"
      },
      "source": [
        "![image.png](data:image/png;base64,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)\n",
        "\n",
        "## Know your tools : Operators\n",
        "***\n",
        "- Membership Operators\n",
        "- Identity Operators\n"
      ]
    },
    {
      "cell_type": "markdown",
      "metadata": {
        "id": "Y98rxJ1AZRJO"
      },
      "source": [
        "**Membership operators** test for membership in a sequence (string, list, tuple, set and dictionary). You will learn about strings, sets, tuple etc in the upcoming chapters.\n",
        "\n",
        "```python\n",
        "Operator: in\n",
        "Description: Evaluates to true if it finds a variable in the specified sequence and false otherwise\n",
        "Example: x in y, here in results in a 1 if x is a member of sequence y\n",
        "\n",
        "    \n",
        "Operator: not in\n",
        "Description: Evaluates to true if it does not finds a variable in the specified sequence and false otherwise\n",
        "Example: x not in y, here not in results in a 1 if x is not a member of sequence y\n",
        "```\n",
        "\n",
        "\n"
      ]
    },
    {
      "cell_type": "markdown",
      "metadata": {
        "id": "gq6RN0m-ZRJQ"
      },
      "source": [
        "### Instructions\n",
        "\n",
        "* You are given a variable `name = \"vanilla\"`\n",
        "* Check whether the variable is in the list `[\"Vanilla\", \"Choclate\"]` and save the result in a variable called `vanilla`\n",
        "* Check whether the variable is in the list `[\"Oreo\", \"Dark Chocolate\"]` and save the result in a variable called `oreo`\n",
        "* Print out both `vanilla` and `oreo`"
      ]
    },
    {
      "cell_type": "code",
      "metadata": {
        "id": "SDZxDwqWZRJQ",
        "colab": {
          "base_uri": "https://localhost:8080/"
        },
        "outputId": "c151410b-08f0-4c6a-dd1e-0c85dc70247d"
      },
      "source": [
        "# given variable\n",
        "name = \"oreo\"\n",
        "\n",
        "# Code starts here\n",
        "vanilla=name in ['Vanilla','Chocolate']\n",
        "print(vanilla)\n"
      ],
      "execution_count": null,
      "outputs": [
        {
          "output_type": "stream",
          "text": [
            "False\n"
          ],
          "name": "stdout"
        }
      ]
    },
    {
      "cell_type": "code",
      "metadata": {
        "colab": {
          "base_uri": "https://localhost:8080/"
        },
        "id": "egbbKFPH7WrM",
        "outputId": "a1042dea-65e6-4e6b-9dce-560f7d621deb"
      },
      "source": [
        "# check for memberships\n",
        "oreo='Oreo' in ['Oreo','Dark Chocolate']\n",
        "# Display variables\n",
        "print(oreo)\n"
      ],
      "execution_count": null,
      "outputs": [
        {
          "output_type": "stream",
          "text": [
            "True\n"
          ],
          "name": "stdout"
        }
      ]
    },
    {
      "cell_type": "markdown",
      "metadata": {
        "id": "wzJdL-MWZRJV"
      },
      "source": [
        "**Identity operators** compare the memory locations of two objects. You already know by now that we use the id() to check memory location of an object. There are two Identity operators as explained below:\n",
        "\n",
        "```python\n",
        "Operator: is\n",
        "Description: Evaluates to true if the variables on either side of the operator point to the same object and false otherwise\n",
        "Example: x is y, here is results in 1 if id(x) equals id(y)\n",
        "\n",
        "    \n",
        "Operator: is not\n",
        "Description: Evaluates to false if the variables on either side of the operator point to the same object and true otherwise\n",
        "Example: x is not y, here is not results in 1 if id(x) is not equal to id(y)\n",
        "```\n"
      ]
    },
    {
      "cell_type": "markdown",
      "metadata": {
        "id": "x1O3EHE7ZRJW"
      },
      "source": [
        "### Instructions\n",
        "In this task you will be checking the memory locations of variables with the help of the variables x1 = 6142, y1 = 3629, x2 = 'Hello' and y2 = 'Hello' and finally on two dictionaries d1 and d2 having the same value i.e. {'a':1, 'b':2}. As you might have noticed x1, y1 have the same values and so do x2, y2 and d1, d2\n",
        "\n",
        "* Check if both the variables x1 and y1 point towards same objects and save it to a variable x1_is_y1. Print it out\n",
        "* Check if the variables x2 and y2 point towards the same object and save it to a variable x2_is_y2. Print it out.\n",
        "* Check if d1 and d2 point towards the same object and save it to a variable d1_is_d2. Print it out."
      ]
    },
    {
      "cell_type": "code",
      "metadata": {
        "id": "y6_S-1huZRJX",
        "colab": {
          "base_uri": "https://localhost:8080/"
        },
        "outputId": "6a3f42ec-73de-4eb7-c457-7c36cfd04282"
      },
      "source": [
        "# initialize variables\n",
        "x1 = 6142\n",
        "y1 = 3629\n",
        "x2 = 'Hello'\n",
        "y2 = 'Hello'\n",
        "d1={'a':1, 'b':2}\n",
        "d2={'a':1, 'b':2}\n",
        "# Code starts here\n",
        "\n",
        "print(id(x1),id(y1))\n",
        "x1_is_y1=id(x1) is id(y1)\n",
        "print(x1_is_y1)\n",
        "\n",
        "\n"
      ],
      "execution_count": null,
      "outputs": [
        {
          "output_type": "stream",
          "text": [
            "140574994257264 140574994257840\n",
            "False\n"
          ],
          "name": "stdout"
        }
      ]
    },
    {
      "cell_type": "code",
      "metadata": {
        "colab": {
          "base_uri": "https://localhost:8080/"
        },
        "id": "fTw_lJeX8nQP",
        "outputId": "08b5578c-c70b-4ac4-aba8-ff92c9685300"
      },
      "source": [
        "x2_is_y2=x2 is y2\n",
        "print(x2_is_y2)\n"
      ],
      "execution_count": null,
      "outputs": [
        {
          "output_type": "stream",
          "text": [
            "True\n"
          ],
          "name": "stdout"
        }
      ]
    },
    {
      "cell_type": "code",
      "metadata": {
        "colab": {
          "base_uri": "https://localhost:8080/"
        },
        "id": "ATaPfuBU83rR",
        "outputId": "ca01f784-69fc-4492-c818-e289158a9aa1"
      },
      "source": [
        "d1_is_d2=d1 is d2\n",
        "print(d1_is_d2)"
      ],
      "execution_count": null,
      "outputs": [
        {
          "output_type": "stream",
          "text": [
            "False\n"
          ],
          "name": "stdout"
        }
      ]
    },
    {
      "cell_type": "markdown",
      "metadata": {
        "id": "O4SpHWC9ZRJe"
      },
      "source": [
        "![image.png](data:image/png;base64,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)\n",
        "<br />\n",
        "\n",
        "## Data Types and Data Structures\n",
        "***\n",
        "- Everything in Python is an \"object\", including integers/floats\n",
        "- Most common and important types (classes)\n",
        "    - \"Single value\": None, int, float, bool, str, complex\n",
        "    - \"Multiple values\": list, tuple, set, dict"
      ]
    },
    {
      "cell_type": "code",
      "metadata": {
        "id": "byxwxJe2gl2I"
      },
      "source": [
        "x=1"
      ],
      "execution_count": null,
      "outputs": []
    },
    {
      "cell_type": "markdown",
      "metadata": {
        "id": "Y72jqDzXZRJi"
      },
      "source": [
        "![image.png](data:image/png;base64,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)\n",
        "\n",
        "# Lists\n",
        "***\n",
        "Lists can be thought of the most general version of a *sequence* in Python. Unlike strings, they are mutable, meaning the elements inside a list can be changed!\n",
        "\n",
        "In this section we will learn about:\n",
        "    \n",
        "    1.) Creating lists\n",
        "    2.) Indexing and Slicing Lists\n",
        "    3.) Basic List Methods\n",
        " \n",
        "\n",
        "Lists are constructed with brackets [ ] and commas separating every element in the list.\n",
        "\n",
        "Let's go ahead and see how we can construct lists!"
      ]
    },
    {
      "cell_type": "markdown",
      "metadata": {
        "id": "KAukNetzZRJj"
      },
      "source": [
        "### Instructions\n",
        "* Assign a list to an variable named `my_list` with values `1,2,3`\n",
        " **We just created a list of integers, but lists can actually hold different object types.**\n",
        "* Lets create another list with values as `'A string',23,100.232,'o'` and save it as `my_list`\n",
        "* Check the length of the variable `my_list`"
      ]
    },
    {
      "cell_type": "code",
      "metadata": {
        "id": "GInFaDkqZRJm",
        "colab": {
          "base_uri": "https://localhost:8080/"
        },
        "outputId": "25a8fe46-e8d1-4ac1-9398-ec0fa5cc2d52"
      },
      "source": [
        "# Assign a list to an variable named my_list\n",
        "my_list=[1,2,3]\n",
        "my_list"
      ],
      "execution_count": null,
      "outputs": [
        {
          "output_type": "execute_result",
          "data": {
            "text/plain": [
              "[1, 2, 3]"
            ]
          },
          "metadata": {
            "tags": []
          },
          "execution_count": 34
        }
      ]
    },
    {
      "cell_type": "code",
      "metadata": {
        "id": "fafvwLPqhzHn",
        "colab": {
          "base_uri": "https://localhost:8080/"
        },
        "outputId": "eec3efff-1b1f-4d60-fa5c-3ce7ce1c0475"
      },
      "source": [
        "list1=[\"string\",23,40.8,True]\n",
        "list1"
      ],
      "execution_count": null,
      "outputs": [
        {
          "output_type": "execute_result",
          "data": {
            "text/plain": [
              "['string', 23, 40.8, True]"
            ]
          },
          "metadata": {
            "tags": []
          },
          "execution_count": 36
        }
      ]
    },
    {
      "cell_type": "markdown",
      "metadata": {
        "id": "M02W89aFZRJu"
      },
      "source": [
        "![image.png](data:image/png;base64,iVBORw0KGgoAAAANSUhEUgAAAKAAAACgCAYAAACLz2ctAAAgAElEQVR4Ae2dB/wdRbXHD71JDb03KQkE6Qklkg8BQgwEozwRpEgVEFDARxeRCIFAQJSSSJMQIHlUC6gIQekPHkgxSAhVQOm9l3mf77pnOXcyu3f33r3/e///u+fzuZ/duzs7O3Pmt2fOnDlzRqSiigMVByoOVByoOFBxoOJAxYGKAxUH8nBgQxEZJiL7i8hReR7IkWZVkx95kv+iOZ6rknQhB24WEWd+zbJgrMnL5sv51BiMzb6jer4PcQBQWKAgvRolpJ3NK+0caVtRH+UA3R1S6H4ReV1E6GKzyAcNzzdKvM+CDuk6IS6HXieNdsccuc410u3c6Iur5zqDAz6YaFyAmEX+M40CEMmpIAu9F6kH0Kz049w+o+dIZe4pULPKX93rIA74YNIGRSKmEVJH03Ekj0bIB+CTOQDEu3ypacvCOWAkXTOqQSP1qZ5pgAO+PmcbM02ycd2maxSAFBfQ2byQvvVUAJ7jI/C7apuPnmd9SA2wq3okLwf4+gEK4EgDEnnZEa0PxjSJVCYAfWmqwMkDatUH9ZnQ0Xbf1BdwV5IxL4oaSAfDkSK2MbIa0wKQdL5JBFCGyOZPHs1Qml6HhMsi/zmVntRBJavVCQEf5aYLp672XtZ7qns5OAAzLZgsQIoAkHy08TQPX4pQHL3HsVkAkh9S1X8veWd1ob7Ezqon7/D5Uw/gOdheJYEDgMaXehYgWQ0TSud3sUgMv9uyAwHeXQZRD0Bhy8Q510Pkp/PLaJ/x68SzWents9V5HQ74jYYkQWqlNZzNzjaiApWuypdGvpTzpYnNM885ja/v89P7HxPg8cnXHSlvFvl5ZknWrHyqex4HAJkFEQ2RB3iajf+slWz2HucWMD4AAQk/gE86fnSRaSNa7pOnfixaHo4+WEIA9D+6LED5uiJ1TOMR5aHclXS0LZJxTuNYoFiQZDyW3LLP5jlXQPkASHs2BB5ergDU5wAFoPbBx/UQ+R+KliuUFlDpezim8cgvU1q60Dv6/LU0BvtMS2vwEIN88NpGooEBmQ8IlbD+e+2z9pyuMkT+AMI+Y89DICjS/frl1PL7ZUIi+qAODb785/r8fxijjRVqTJ/BoQZLY5IPQBqH5y3Y6Yr8hqG789+roEGK8aPMpMn6IGhgvyvXfHhnWl14v6bjmNb9FgGVXx940fVE48MIZTaN4usuPoiQWHnJfzYNLLZxFBiUjfT8/DLlfb9Np3np0d7zzy1P4E3ow+QZW27SpYEq9JFRDp+oZ+i6n67P/A99wUgMnxSgeqzHJL3PUZ/hqNf9/PlPY1rJGErTE9cogy0zH0Qacc+mTaufr8+GeMw7tCfiIy/jo0srd0dd9/UdGAoYLPkMzJKCmpbG8CVEWgPZd7X7nG7bSkDqEyKkmgVflvSz6TgP8cHv9smvEz7IUN0busYXldaV+JXny7aV95kNE/2GIY3Vtzi3AAS0pOktRP2zpLLPkzSpZnkS4hv88M04CljaIa3Negsfo3ICPgBAxUIjL+7br550vpTzQUoanqGRVOop4zjCPL503tdXuxOfZ/4HRv0tTzj30wB0vyv3n4HHvZoUfFqxUBcQYpatuAWx5pN25H1WgvZq5mUUHv5YHgBI5W0IWP5oGp764ON/6GP3e5yMYnXeLR+AVDIEEJ+hMFcZSq3ygBDmlSnxVhGR7UXkIBE5XUSuEpFbReQhEXk+bkDq87mIfGb+c480pL0ifpY8yIs8y6KQ9PclI3ykjJYvabzUdqHn4BkL8F7bHYcqmwZCH6ww0zKOhoM5VrfhGYDndy9FG3nZWOc5S0TuEJG3vAawjdHs+ZsicruI8C4adumihTXpQx+uLR+8th8yj4aAa3sc0lgp6t8zr+8dp3lBaCutTGyV+J9XRLYVkfEiMqOFYNN61Ds+FpeFMlG2IsTHx0foSz9MKyrVNL80wIaEAu3mg1fz6XXHvCAMMags8T+PiOwgIpc3KuEWXnhht/rqq7sNN9zQbb311m7YsGFu5MiR0ZHzLbbYwg0cONAtt9xybt55560HurT7SN/LRGSkiMxVYkvDx7R3ch0QhgaKtggAuiMlIgDji0NiUYlQl5gXhLaLVcbwbKO0loicISIv12mAqHEWWWQRN2TIEHfwwQe7CRMmuD//+c/uqaeech999JErSm+88YZ76KGH3DXXXONOPfVUt8suu7gBAwa4OeecMwsI9t5LIjJORNZstPLxc6HeBfUlT3esr7Z5tKpn0ncVOoaABRNVP7MSLJTWF/+k4ZptCL8rqVfA2URkO09ftPkl50svvbTbY489IrA9+uij7vPPPy+Ks8Lp3377bXfzzTe7k046KQJ7DkAy0OHDpE7UrQjBT797tjxHYCT8iAWJn7+fhvQdIQlDgLKVsecwkEKjV/gDDssQKq/dBYwrAr7ZRWQXEXnYY6otRySFfvKTn7j77ruvRwBXD6Fvvvmmu/rqq93uu+/uFlpooZqyBupB3f5LRKhrHlJe2nx93Y7/tAHtQptaCoFP8+JeW4mCa2GKHH0Jx7M+CMnbZ0ZWZUdnAW+ZZZZxRx99tEPKdTJ98MEH7tprr3WjRo1yc8wxRxZPMfXsmMUQcw+gKM/TQIPa5KtOoS7aL5MPZvPanjkNFdIX+X6h0/4jJYvS+iIyLe1DGDp0qLvuuuvcxx9/3Mm4C5bthRdecD/96U8dakJa/eK6w4N6RE+St9vkw09rV/Kw5fEFR71ytOR+qLAUFPHPvbyATPs6Q4VeREQmxkZgyxA3++yzRwr//fffH2zY3nbxww8/dBdeeKFba621auppgIAh/HwRWTjEqILX0tQq2z3TTrYsgNCXngVf23zyEAgtoPQLVNcfWwHObdp6paG7fcFjgpttttnczjvv7KZPn97bMJarvJ9++qm77LLL3GqrrebzTv8zC7NTPeZl3AdEvn6uefvtY6fteKbtAKRe9UBo6450VAOqXzmbzp7zhTO9pUxJjltuuaV74IEHcjVkb0/0ySefuHPOOcdhMgrxIrZ1LmQZl+McAaF6YijfUFdL+yFQiujqOYrSXJIiICzyps1F5Bmf4csuu6y74oorOmI029PAfuWVV9wBBxwQqRw+X0TkKRHZLCeDdRTsA89vy7Z2taCcAuRRZP2CUzEkXqN0uIh8YplMd7v//vs7jL3dTrfffrtbc801ffDw/2MRObQO0+k6Q89qr+QPOqwuWCfrcm/bPp9BRb3htw/CkAivV8IFRORKn0HLL798NEPR7cCz9R8/frxbcMEFQ0Di2mQRmS+D2bZtaSdfWNi2bAsA0Q9ClaPgWf2/r9AWEeF4ifyv/97Ro0e7V1991fK+689/+ctfuhVXXDFpH3oHn28icq+ILJkBQkCWJSS43zZ9DzGdZkoJfTFaz9CQHjDXo/6xDpMwkumqM888s+vBZhnAqPjnP/955PyggMNh4qijjnKDBw9OeKf34jZsdl65Xtu19L6vD9hK8nWEhuIWhKpXZBVyAxF5xTDNLbHEEm7atGmW911//v7770cjYQZhyqtFF13UnXzyye61116LDO+HHHJIck/TiAgODnkM11lt1NZ7SDDfY0UrijQMDVIAoa9XhCrBqA2HTc3PffnLX3YzZ87sesBZBrz33ntu4sSJjulF5RUmmRNOOMG99dZbNqmjew5M6dFOg0IN0JuupXXJMAWA5ulqbX039f30Nttss+hrruFol/9555133MUXX+xWXnnlBHyLLbaYO+aYYxz3QoSZau65507Sx6DlQ9/YNkCnndOdpg0wsrpiW9GQNAzVc13fCDp8+HDHl17RFxyAH7/+9a/dSiutlPAY9QSdD+N0iBiwnX322SEAkgeqDrzvOAJ4iOmQuUXvKRMY6dK9kl6v2WM9c83qvrPoiBEjGnIADTVAX7kGwACfSj5Guv369YskX5oPIzbSs846q6YLDoyQXxSR5TsNgf58LUNwlYb+Pe1quW/tSYAQcGYRU2uPWODi6s7ke0W1HLj88sujOWAcLeDXl770pUjyMRgJEdKSEfJ8882XCAMsCQxM5p9//uRazHt8DMtwZMhq60L3/ALyHwnnA4z/PiHxVD/Mkn5zi8gtFnybbrpp1e0G0DRp0qRoMKbSa6655nI//OEPU+2hSEsM03TPyl/AhzRkhIw3dkAnpC3m8BuzXf/z6HiATKWiX06u1xv1nqPM4chin5dffjnA/u6+dOmll7pVVlmlBkhHHnmkw1cwRIAPe6k1zyAtAeTrr7+ePIJEVUCbdjjTb8h2/mcQkmZugSEh6Ze3vLuaSkdf6hNPPJEwpzpx0aCC0a51vZpnnnncEUcckQo+nG4BH6vylL/oiYAvNEJmoZSmi4+sPaknOPK2cWnpkIZpAwx0PNUB876QQcc7WnFsVLfeemuFOcMB3PIB36qrrpoABL3t8MMPdy+99JJJ+cUpOh9d7JJLLpk8g50QQH722WdfJDRnL774oltjjTWS9HGbvJ0yoZC3fVuSDmnoDz5swQFpWndsCzSniNyj4OM4btw4w5Lq9N1333V+t4uTwaGHHupYvBQiVtkx4LD+gYAvi7f/+te/Ij3StoU5v6sd+iCSDJBlASnL3IJOGJqKswA8yVTS7bTTTl3pxxcCEdfUzqemFnjF9BojV6RiiBhU/OIXv6gZ7S6++OKZ4OMZpKlti4A+eKJtuFafAzr1XOGYBULu+aNhrUzWqHdg7J8WpeULrbxavoAU+huj3RD4cDoIEYMKJJ8d0TLgyHLaAMjokQo+gLfUUku5/fbbL7kW3/tIRAa0Gniavz/qzQKSPmPNLRQ+y+bH8D7peqn0H//4xxBPu/ba5MmTI0uASqIFFlggknxpNlGkJZLPhgDB1HLGGWdkmrKOPfZYh8eMAhCdccqUKZHtlR5Jr8dHuuK8648VF4WPSDT7YozORUjBmzUYITxZ8g7cyCv6ggOAD6cLNTKrnY+uMo0uuOACxxyw8pXBHJLPmlr8Z5kvtrZBTDVXXnll0r2jF9o847wPKAKGRtLiIqUVyZJiNm90waxu2qYl3av6Diqdpkz7DOuG/zgKAD7lD1IM/SzNzgdPzjvvPLfCCiskz2CeAXxpKg22weOOO65mhMx8Mivs/JmUSy65JMk3LhMxdVgC2zJC4ulL89qA1D6I9KtHZ5v8HV97RS4afCF9LPiQfOhnzz//fCqLAJ/1fmaQQrfLSDhEXEfykU7bAaM/I+1QwCXmlYnypWnjI8GdWkYKJl6al3SqjWezaGURQZmNKrT55ptXo17nImdRJF///v2ThmbO9gc/+IGjGwwRUuz88893rIdRfjJ4AHxpUR/owpF8Vk/EtvirX/3KpQ1seDcxc1QdiN/1oYismNXQzdyzAMzjsWx1xnoAvFCZhXJNxbqd6PKuuuoqt/baaydAYuSKqSVN5+MZIiNY/Y3z0047LZWdTGv++Mc/rvGEYYSN7pgGWJvZd7/73aR8cRsWHRvkxqTtgpnxyBpMkKnVGbOm41azSymJWNDtRJdHFCxdQslHyVTZ97///Vl0MeUVHs6Az0bNYqBAaLc0Qhc8/vjja6QYZi/yyZJ8Nr9nn33WoVuqAIlNaGXGuE4AagHFCwFhmiRE+mn3S9osnZFYJVEFEOedHpXKMr9V58SqweNH+YLkO+yww1IlEuBjSs4CgSk5wJc2vYZ5BvAxmOE9CnLyySP5bN0J0qlljY84kLSELKj0pep+Bciw+THgsOm4n0aLi8j7Wngig1bkImBYMKHP/eUvfwmCCYMxEsvqb/CTRUdM16URdj6ArbxHWjLaTZtJScuH6wyGrJE7nsPPa/1Iw0bwOt0ugEoKnuM8awR8vH3+wQcfzKpn19wjAKXlC1Jq0KBB7m9/+1sNDxiJMlDwbXKAL83UQgZIPqsn0r0j+XxTS83L6vwJzJAcG0RQCReLgDDLXojl/Dll9FZbbVWnit1xmzjTWAGUL3pEPdl4443dvffemzCC2NR2tEtaut00TxgAC/gYFWu+6HysnMuSlskLM07+/ve/+36DxJxp2ewI4hXJliUNGflmieERygSOBOiuyEUmFHUSBRzrrLNOAhb4RHQvpifPPffcmkVHdIEEqUyTfKrzIe2U79gJGe1yrwximYTmHR+3aVbg1Rvpkj+6H2AEcPwY8WYNOrRMV2thieyJ/aoiFwVCx9AMb7bbbjv3u9/9zu2zzz41DbvBBhvUeDIz8iWWdZoUY9ERko95Y+U53tMYq9PmkBtpC2yWmn98nKKN3egRQJFpVlfaSN4LisgHWlhiMlfkIh3Mdr/oVdBzzz0X7TOi/LJHbHZjxoxJNZtgM8TOp6NdnuUZjNVFR7v12ggw4+JlyveeiBA4qmGymdlM8AdE6uXxhrHP6fluppCV6cX9Z8rttttuS9ysGNUCLCV0w2233dapdFT+7bvvvppkliMOB7jTq+cMz9C9ozu2qsc58MADLWY4ZzeChojuVzPDrKIE6PQ6EtIS3S/XAGeW0+kNmgc6TkUukmCsYFNDMrsssfmNJcwddMvW5LH99ttHH7BvOKY7PuWUU2rMM8zzNmLns2Wod86yCW3b+HiNBUiRc2t4RuIp2ev+tAtdtRYgTTqyFVay1gPFuaL/zPtiCdD4LHvttZcjsqlPzDwAQsPnaHT88MMP18yfAz7rz6fga8TO55ch6z+Gby9aP1uKNbSVGFJMK8q5kvVytte5r+k5phEjoyRdt8Rrzmo07uFcYBcX4RwQmsXAlILJw4440e/QHZ9++unoNcSFtiveWAPCtWbsfPXKb++jFtg2FpGhaWDIuq4DEDIDaGpSsdetlLNdc9aghT3NogKij8DQbiekEt7GKrEYrRJeI4v4cOl+lZfohuiIxH+x2zRgdiHmix8NKyvvZu9NnTo1KVdcvlOzgJZ2L2Tjs1NsvMSaaazE9Ltm+w4icEYFZO+1VhEMRx9B4UaZZ+oJf7d2/ZBoLPIOeSIzUt1tt90S3Q7plqdnIBwdXbXyk6MNv8sMCYOQnnbs5X121C0id1oA5DlnAFFTsYz/ABWpaCWj3zXrO+e3ni8oxGUTRlXsUTQoMwfoI/jQMZPQ7h/eydj1fKnP4IKF5Tpa5WNJs+nBL8wnjIoJOk4A9lDbsIbjZz/7WarrVtl89/NjEGXKha9nof2NbXdqM8p7brtmBR/HrUyh3D/+8Q+/3E39pyHHjh1bM0Ng39cJ50z4WwCi591xxx01o1XfG5z06IiPPPKIu+GGGyK73re//e1oP2K7xlfrx0fHfHBPdrt+wwWirm5pgZDnHBAhyehOrXTLA0LVF/33sI1C9DyT4WUSYp/u1Zoo8PbA4r/eeutF0nCTTTaJjkjGnvxttNFGkXvVnnvu6R577LGaatMlM4uhfGEggkMueuE///lPh2sWPQXuWOh8aqbR9HrkOjo1dWXdRyjERs2LW/yHZQRatvh4mA+GRv6j82GGUXuf/xL+W5uh/45LtFDbbLNNaSxAijCnqR4edLUspsEoyo6S6Er//ve/o0l6ju34pQVUApDW9w/Jxrw4khJvYxvzRXnHkQ8N0DFfzPwwbvrwoFPCFNO72fKKCF7vLSH0RTsfDDjTKLETsqKrLMI2Zkd+SJF6o8iy3t1sPvfcc08y+qXBMJ/YOVttRPRDPizshHjAfO1rX4u64ltuuaXHzCtF6oph3MYcjLd/SMPFLNfpfrNmMmZ5IOeFd5WhLOsri/CJ02A7NBLKd5mT7GWV088Hyc2HooMPeEP5lUd65D7dOH6CuE7NmDEj0u+w67VqSs0vayP/vYEIBuncZJmQ+6E6CZdQhnJkBFcW7bDDDokSn9eEUda7m8mHbpnpN8sXPWcggZqCo8Yf/vCHqGslSlXW6NiWhWWWd9555yxOrDZNq8/xcNf6xEcwkIvsg7keyJFoE1sYFOyyyDdh9AbpR90ZaLDuFg8SjNADBw506IDMWuCYwIxHmu5Yj3dMcTIgYdoOALeD+Hhsm4vIRjlwEiWxD+Z9pl469u6N8kWBDk0zNcok6wKE1b83EQBjBRxLMDGcE4DTmmkaqQu20GHDhiW8xh2rHcSgSNs8Pu5YDyR63z6o15o97quFQdEuk6wtDOnR7QSo1WGBkXK7/C2vu+46iyPO984LIv9B+9/OfOgMiD3a6Tn7vmMUgOuvv36pGLGLcnqbBCyVEXFmTO3pPDEfJzsjtYPQ87XN4+ORFhBZ5/6DRf6nzYKcroVhoFAmtRqAdGk0Kjpbs92j1hszBQMFDNFleyZ3CgCxcWqbx8fcTgn+g0X+pwHwPC0MNqwyqVUABGwA5KKLLopC39KlpAX3KVof5nKJ10KQIXQ/36G0aH42facAEPustnl8zLVg3XpC+xnk+V8XgLvuuqvlV9PnrQIg03ssc8SgysCJOC1lxa1huozF5/wwnLMnR1nUKQBEF/UAiBCqSwBIH0S3yyLS+r+09Jdrvr0BgEg65mjtAIdI8WUBkEj1yg+OzFnfdNNNpWCwUwDIB2zrKCIXpYHDXi8CQPtcvfPLtDCdDkDAd+KJJyazK5Sb0SQhMMrqgrGD+tEEmE7E26VZ6mAATqwHEu63CoCJDtjJAGQNLd2uOjYAPs7ZTzfvLEReAKEH+mt+MR7jQNEMdQoAKYcKnfhYehecB9CaJgHgjjvu2Ax/Z3m2LB0QhtHt2vxwIiUKQasIH0bctOx88Fe+8pXII6bREXenADAwCDlLwdCOY7KYCSNpmWQB06gdkJAWOHFal3YWcCP5Wk2sfsPRwHqPMC13/fXXN+Rs0CkAZFbHk4Bj2gE8fSdGyKhAeHaUSc0CEFML3a4NiUbclJ6cVcGBFBDaDwCd8Pe//30wRnMW/zoFgLiaaZvHRxyS20ZMw0QFwuxQJjUKQLo4JB8T97qIhq6Q6FHsrdHThHsVILSx/ghO/qc//amQJOwUALL+Rds8Pu7ZNvSJyA5aGBwuy6RGAYiZAPDZcBeMdgFfu/zsGGUDQuUV/oF4++Adk1cn7BQAspRA6xEfiYjWNlrPFiYtjFgjwGwEgDQ03a6uxaVs6GDofO1eT0F8PwYmyi+k8oABA3L7UHYKAPHC0TrERzDQNmKr96RALLYpi4oCkDld1staUwtSGfC1cyWZ5QcjSD8CPSBk2q4edQoAWfdt27zVG9nkQXay2B3/t7KoCACRboBPg0DCIOKmAL6yAjWWVS9CbfggxM0dB9Os7rhTAMhiKQNAdlJqO7GpXVSoMp0k8wKQCX92jdQQtehXbIUA+Mp0kC0LgOSDJMRYbQOKs4oua0lDpwDQtouI3N529IlIYoxmx8WyyFY0yw5I92qXQNKobPDc6cSk/rrrrluzYAmDeRp1AgCZalRhEx8v6AQAHqiFwshbFuUFIKPe73znO8molxEv87Flrk8pq06aD+tb0PsAoIZuo9xZszOdAMDf/va3PgBbvptmHoDXLExK2+9MmZ/3mBeA5Ic5A93E2v1GjRoVhTbrtG6YHZOwpdlI+NgIWXBP2N406gQAEt9GhU18TPOUz4Ob0tLMKSLEDY4Kx2KcMqgIAFHe0Z8GDx6cMAhdEJVA4+uVUaYy8kCK4Kal/OLIHspZ4OO9nQDAoUOH2nITkJTNyDuCblOGEk6iDCoCQN6HCzwRBZj017IwDffNb36zLgh59sYbb3R4R4e8Y5CwkyZNila3+XV78skno2WYRDOtR7/5zW+iXTLtQnXUBT6SrBEw+bYbgKgNbBWmvI1jC3UE+CjESVow5jrLoKIA5J0ACS9kFkhpeejevvWtb0WRB9LKxSiafXTRYdn6wBLOA0hWusy99947CqHGfQCD4R0nDFYEDhkyJNOeB7jtx0H5kHzPPPOMfV3qebsByMetPI2P7IjVMbSpLRxmhmapEQDqOwGhDSGBJCS2YFrouIMOOihhLrqjJcw5OlAA2HbjRXY2Z/BA3Zn6I4ZhiACxLQ+6KpKvCJ/aDUDWudg29gKZth2I6AKvaQFptGapGQDybr5YqxPS6MzHTp8+fZaikZaQE4DPdxwlkgEDBJZE4nKPc6sSRm7cvQi3QRhdXJV8wvPFl8gEoMRxtQi1G4B2j2MReamVW3Y1iubEPR9ltVlqFoC8H0loLffoXnhuP/7447MUj0FAWndI6DekJ9N9PuHgQJDJkO6IXmkjfGGjLCr59H3tBCD1U+ESHy9uFCStfG6kFpKGbtYcUwYAaTz25SDavHajOAEg7Yp0fwqCvEdMLYDPjnYBH7Mf9Ua7ae9oJwADDgjbtxJIjebNXiFvKAjHjx+fxstc18sCIC/T7tjaCb/xjW9EEq9sO6GCD+dX5QUeOQxgmjGOtwuADLbwX9S6xKpWQ3uENAqsIs8RMTMqbLO7JZUJQAWhHQggpUePHl3XRJPrazGJ0PlwzlU+IHFxw0rr3s2jmaftAuC0adOSusR16ojptzRQDlLGc7zrrrsymZp1s2wAYqKhO7amEBam45nSLDi0Hni0sALO2vnYcoEBR7OStl0ARGe2bVokHFsaSFp9/WEtMKPORqlsAFIOukcGJoBEy0gUVoI+lkF4Ymu+HAEfhuoyqB0AJHgmH6mp04OtBk8Z+R+sBUbnalTZbwUAAQKSiPUYW2yxRWTZZ6YkZD5pBDSYcBj14ov4ve99r7CpJeud7QAgRnlty/i4XxkAaXUe84nIK1rwI488MouvqfdaBUB94d133x1FrWcKDclYBuGZw87nbGfQ6IeXVo6eBiA2ThskNG5T2rZX0MkKQMwPrIcoSq0GYNHytDt9TwPw9NNP96Xfib0CeXEhl7TbtzYiBenGFMTM1XY79SQAWdxl19aIyNsi0q83AZCynqIAwg5GuIoiZCVgBUAXxTTUCKms+mtlhFR/MCUi9Gi9jhYTEfaRiCRZ0RGxXWB02mmnFcFun0yL540CkI8TkLSCEBSoTdpu8eRC2jZtHQ/KZLtXDLKEdchL1l394IMP7vHtSfOWs6fSMVhiSju3GAEAAAWMSURBVBFgYDoiEmsryK5djkF4RMejLKOATM8l+xEzE5E3bC2+chpThamgsgI9tqLReiJPYhtafuBfWDaxwyeCwki/GSJCG/ZqGmUqFLk05WEc5gwdiDCzgANBsw4Oed7biWn++te/OqY2lY/sos6gpEzC47l///7JO+J3EXqlT9D1yjyiFeQx/OLe9PWvfz3xYkHxZmaBtR/NTmuV2XCtzIulmzi52gVXfJRZy1QbLQ/b4mobxcer+wTy4kosJyJvagXZ15e52XqEsXjQoEE1jMHJFOdPBiY0RF/84UmEoyvuW7j7K9/oCXCObcarJsRzJKy6q8Xvwqtp2b4EQOqyjzKS43HHHRfixSzXpk6dGu0q6ekmSaPYPPvyOSNT1raEPLpnYVqBC3h4sw+zx7u9+hr4tD7XakX54vJuuMeqtOHDh0fhN5gc7xYwwiNUFkIKs26lbB0YXz+WrmqbxMf/0cbqi0es6S9ohfv165fbH48vlc1lvvrVr0b+dmx9yvPYxPrSDx2PerEKj5C+LKbiA2zFbqHswaxtER+fExHst32aNheRj7Ti2PvK2iahQM/T9UnZOsLT+2iTwX0aeaZyhygAORJhP699sOuRUwIDMGp7i8yRhMT46Sq61IIQ/7l60QFK4H3XZ0EUBhuXJm6DXHt99DV0zi0it1gQ/uhHP+p6gLSSAczzEgHC8jxuA9qiK4kQv4kLP4whxnNF5XOAtc2EA/bAB+9pg66mpUXkCcuYdu0GXn6zd0aOSD67QD7m9eMiskRXI89UfgURedaC8JBDDumaKbdWwnTmzJk1C+RjHj8tIssb/lenIrKSiMy0IGTdLhu9VNQYB5jKxHXL8lRE8HBZsUJcmAPMP063DCP+c9kzAI01Z+96iilMu09dzNNHRQSVp6IMDmCJJ/p68uUyIc/XXFF9DmBPZZ49MF15RzfMcmTgqtCteUXkKgtC4u/hJVLZCtNBSLxCL4yufsRXigg8ragAB2YTkeNE5DMLRJwxqy55VhDiIc0csuWViHwqIkeLCLysqEEODBeRVy1jWTA9efLkWVuhC6+wWMluhGj4BM+2aZDn1WMeBxi1ocPUfOEjRozI5V3dF3GJKkLg9MAoFx7dWplZPASV8JftIOiSE08aAIl/IEp3u3fD7EmQP/DAAzXhh82HCW9YiTh7CfyuskjhwAARudswPZKKyyyzTLQbeiv85noSXFnvmjFjRrQrlA3/Zvhwp4isncKz6nLJHOALx6UriciqDYH3MFteddoumVnAqneP+NREWNUIr1rX+EggKFypKqlXMsjyZLe4iJwrIp94jRJFdiK2MTHueiOh4xGdFF/JFIlHnak7PKiozRxYK7Yb1phsACX2Q9Y9EDqXiPadTnitjBs3Ltpy1v+o4v/UcbKIrNFmnlevD3BgXRHB6DqLRKTxMN8QcYFQvXmWhfYUWLFrTpgwwW299da+m7wd9VMn6rZOoN7VpQ7jAI4NZ9m1yL40YaE7kfInTpwYLXXsyRkWFt0TuZ8IV2xiE5g2s8BDzx0fO2t0GJur4tTjABE9WePKCPFzH4T2PyvrRo4c6diSdMqUKdHmM2V44tClEs2BgRHSl/g4KYMJCzrKynz4HiLSa6KS1muMbr+/soj8t4j8nwVevfOllloq2pEdcBI56vDDD48iM4wZM8aNHTs2+iHJiNZAFC9i2NCVEmcl4I1iQRY6p2yUkbJW1Ic5gDPmviJC/JMknnU9MLbg/stxGShL5SDahwGXVTUm6jHg7i0ibMJCd50E1iwRdORJ3ufH76qMxlmt0uX3ACUSaUish50gImeLyOUiclO8WfN9InJ//Pvf+NqNIjIpTsszu4vIFnFelUdKl4Oqqn7FgYoDFQcqDlQcqDhQcaAvc+D/AdcNq/wnl26SAAAAAElFTkSuQmCC)\n",
        "\n",
        "## Indexing and Slicing\n",
        "***\n",
        "Indexing and slicing works just like in strings. Let's make a new list to remind ourselves of how this works:"
      ]
    },
    {
      "cell_type": "markdown",
      "metadata": {
        "id": "tXVCSvltZRJv"
      },
      "source": [
        "### Instructions\n",
        "* Create a list with values  `'one','two','three',4,5` and save it as `my_list`\n",
        "* print the Zeroth index as `variable_name[0]`\n",
        "* Print the values from index 1 till last i.e(`varibale_name[1:]`)\n",
        "* Add another list `[new_item]` to `my_list` and print it"
      ]
    },
    {
      "cell_type": "code",
      "metadata": {
        "id": "aib7Hq_7ZRJw",
        "colab": {
          "base_uri": "https://localhost:8080/"
        },
        "outputId": "fcbd8753-16f7-447d-9e76-137a16865c34"
      },
      "source": [
        "# Create a list\n",
        "my_list=['one','two','three',4,5]\n",
        "my_list"
      ],
      "execution_count": null,
      "outputs": [
        {
          "output_type": "execute_result",
          "data": {
            "text/plain": [
              "['one', 'two', 'three', 4, 5]"
            ]
          },
          "metadata": {
            "tags": []
          },
          "execution_count": 38
        }
      ]
    },
    {
      "cell_type": "code",
      "metadata": {
        "colab": {
          "base_uri": "https://localhost:8080/",
          "height": 35
        },
        "id": "AuGCkMSg-c-b",
        "outputId": "c2f1f0e1-4506-46ff-fbee-41961c5deb7e"
      },
      "source": [
        "# Grab element at index 0\n",
        "my_list[0]\n",
        "\n"
      ],
      "execution_count": null,
      "outputs": [
        {
          "output_type": "execute_result",
          "data": {
            "application/vnd.google.colaboratory.intrinsic+json": {
              "type": "string"
            },
            "text/plain": [
              "'one'"
            ]
          },
          "metadata": {
            "tags": []
          },
          "execution_count": 39
        }
      ]
    },
    {
      "cell_type": "code",
      "metadata": {
        "colab": {
          "base_uri": "https://localhost:8080/",
          "height": 35
        },
        "id": "F_Lhbqvh-024",
        "outputId": "91a6264b-10bd-4afd-8b81-fb085c40b066"
      },
      "source": [
        "my_list[2]"
      ],
      "execution_count": null,
      "outputs": [
        {
          "output_type": "execute_result",
          "data": {
            "application/vnd.google.colaboratory.intrinsic+json": {
              "type": "string"
            },
            "text/plain": [
              "'three'"
            ]
          },
          "metadata": {
            "tags": []
          },
          "execution_count": 40
        }
      ]
    },
    {
      "cell_type": "code",
      "metadata": {
        "colab": {
          "base_uri": "https://localhost:8080/"
        },
        "id": "QM4D4Scx-qQf",
        "outputId": "bc43189f-0b38-454b-b4e7-50be15d4e1f6"
      },
      "source": [
        "# Grab index 1 and everything past it\n",
        "print(my_list[1:])\n",
        "\n"
      ],
      "execution_count": null,
      "outputs": [
        {
          "output_type": "stream",
          "text": [
            "['two', 'three', 4, 5]\n"
          ],
          "name": "stdout"
        }
      ]
    },
    {
      "cell_type": "code",
      "metadata": {
        "colab": {
          "base_uri": "https://localhost:8080/"
        },
        "id": "78XQcb65_VIP",
        "outputId": "d50f1786-8156-43d5-8bbc-1eba02e7bd31"
      },
      "source": [
        "my_list[2:]\n"
      ],
      "execution_count": null,
      "outputs": [
        {
          "output_type": "execute_result",
          "data": {
            "text/plain": [
              "['three', 4, 5]"
            ]
          },
          "metadata": {
            "tags": []
          },
          "execution_count": 42
        }
      ]
    },
    {
      "cell_type": "code",
      "metadata": {
        "id": "3H_uG6yb_Cly"
      },
      "source": [
        "# We can also use + to concatenate lists, just like we did for strings.\n",
        "list1+list2"
      ],
      "execution_count": null,
      "outputs": []
    },
    {
      "cell_type": "markdown",
      "metadata": {
        "ExecuteTime": {
          "end_time": "2017-09-19T11:49:42.542856Z",
          "start_time": "2017-09-19T11:49:42.534053Z"
        },
        "id": "_8BkGmtjZRJz"
      },
      "source": [
        "![image.png](data:image/png;base64,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)\n",
        "## Slicing\n",
        "***\n",
        "Slicing is used to access individual elements or a rage of elements in a list. \n",
        "\n",
        "Python supports \"slicing\" indexable sequences. The syntax for slicing lists is:\n",
        "\n",
        "- `list_object[start:end:step]` or\n",
        "- `list_object[start:end]`\n",
        "\n",
        "start and end are indices (start inclusive, end exclusive). All slicing values are optional."
      ]
    },
    {
      "cell_type": "markdown",
      "metadata": {
        "id": "eZkJvIp5ZRJ0"
      },
      "source": [
        "### Instructions\n",
        "* Create a list Containing 10 numbers starting from 0 and save it as `lst`\n",
        "* Print elements from index `4` to `7` \n",
        "* Print alternate elements, starting at index `0`\n",
        "* Print every third element, starting at index `1`\n",
        "* Print odd indices up to index `7`"
      ]
    },
    {
      "cell_type": "code",
      "metadata": {
        "colab": {
          "base_uri": "https://localhost:8080/"
        },
        "id": "WBRJSjaTAZL5",
        "outputId": "44f326ce-9c67-4ca8-f133-e580d1a44ebf"
      },
      "source": [
        "range(10)"
      ],
      "execution_count": null,
      "outputs": [
        {
          "output_type": "execute_result",
          "data": {
            "text/plain": [
              "range(0, 10)"
            ]
          },
          "metadata": {
            "tags": []
          },
          "execution_count": 43
        }
      ]
    },
    {
      "cell_type": "code",
      "metadata": {
        "colab": {
          "base_uri": "https://localhost:8080/"
        },
        "id": "qDxHZVLfAezi",
        "outputId": "7c4a122b-2706-4a0a-b0e1-cb2e54d8fb08"
      },
      "source": [
        "list(range(11))"
      ],
      "execution_count": null,
      "outputs": [
        {
          "output_type": "execute_result",
          "data": {
            "text/plain": [
              "[0, 1, 2, 3, 4, 5, 6, 7, 8, 9, 10]"
            ]
          },
          "metadata": {
            "tags": []
          },
          "execution_count": 45
        }
      ]
    },
    {
      "cell_type": "code",
      "metadata": {
        "ExecuteTime": {
          "end_time": "2017-09-25T05:47:39.225276Z",
          "start_time": "2017-09-25T05:47:39.204399Z"
        },
        "id": "xwPbQ2oTZRJ2",
        "colab": {
          "base_uri": "https://localhost:8080/"
        },
        "outputId": "ef5b8a85-340e-486d-92cb-115a9e1fa0ff"
      },
      "source": [
        "# create a list containing 10 numbers starting from 0 \n",
        "lst=list(range(10))\n",
        "lst"
      ],
      "execution_count": null,
      "outputs": [
        {
          "output_type": "execute_result",
          "data": {
            "text/plain": [
              "[0, 1, 2, 3, 4, 5, 6, 7, 8, 9]"
            ]
          },
          "metadata": {
            "tags": []
          },
          "execution_count": 47
        }
      ]
    },
    {
      "cell_type": "code",
      "metadata": {
        "id": "wGzM8Z5-jj8s",
        "colab": {
          "base_uri": "https://localhost:8080/"
        },
        "outputId": "46824f67-3d25-4075-d868-e1f46828188b"
      },
      "source": [
        "lst[4:7]"
      ],
      "execution_count": null,
      "outputs": [
        {
          "output_type": "execute_result",
          "data": {
            "text/plain": [
              "[4, 5, 6]"
            ]
          },
          "metadata": {
            "tags": []
          },
          "execution_count": 48
        }
      ]
    },
    {
      "cell_type": "code",
      "metadata": {
        "id": "1FXgh-JCjweZ",
        "colab": {
          "base_uri": "https://localhost:8080/"
        },
        "outputId": "30a9e1d2-48ac-4c69-9bdb-508778937a8f"
      },
      "source": [
        "lst[::2]"
      ],
      "execution_count": null,
      "outputs": [
        {
          "output_type": "execute_result",
          "data": {
            "text/plain": [
              "[0, 2, 4, 6, 8]"
            ]
          },
          "metadata": {
            "tags": []
          },
          "execution_count": 50
        }
      ]
    },
    {
      "cell_type": "code",
      "metadata": {
        "colab": {
          "base_uri": "https://localhost:8080/"
        },
        "id": "OyA1AQ5oBM-X",
        "outputId": "c7941230-d95e-47ef-a36c-daf8354af6eb"
      },
      "source": [
        "lst[::3]"
      ],
      "execution_count": null,
      "outputs": [
        {
          "output_type": "execute_result",
          "data": {
            "text/plain": [
              "[0, 3, 6, 9]"
            ]
          },
          "metadata": {
            "tags": []
          },
          "execution_count": 51
        }
      ]
    },
    {
      "cell_type": "code",
      "metadata": {
        "id": "LqmbdXLhB0hH"
      },
      "source": [
        ""
      ],
      "execution_count": null,
      "outputs": []
    },
    {
      "cell_type": "code",
      "metadata": {
        "id": "EpML7ZNYj-7L",
        "colab": {
          "base_uri": "https://localhost:8080/"
        },
        "outputId": "c6de8deb-46a2-4cc3-b990-583e59090768"
      },
      "source": [
        "lst[1::3]"
      ],
      "execution_count": null,
      "outputs": [
        {
          "output_type": "execute_result",
          "data": {
            "text/plain": [
              "[1, 4, 7]"
            ]
          },
          "metadata": {
            "tags": []
          },
          "execution_count": 52
        }
      ]
    },
    {
      "cell_type": "code",
      "metadata": {
        "id": "NYCU1aRwkGzX",
        "colab": {
          "base_uri": "https://localhost:8080/"
        },
        "outputId": "3544e6e3-29c2-4abf-e38a-1754dc65d2e9"
      },
      "source": [
        "lst[1:7:2]"
      ],
      "execution_count": null,
      "outputs": [
        {
          "output_type": "execute_result",
          "data": {
            "text/plain": [
              "[1, 3, 5]"
            ]
          },
          "metadata": {
            "tags": []
          },
          "execution_count": 54
        }
      ]
    },
    {
      "cell_type": "code",
      "metadata": {
        "id": "or1_QI3dkTky",
        "colab": {
          "base_uri": "https://localhost:8080/"
        },
        "outputId": "11d4b884-c9dc-4bb4-e900-889556c1a2d1"
      },
      "source": [
        "lst[0]"
      ],
      "execution_count": null,
      "outputs": [
        {
          "output_type": "execute_result",
          "data": {
            "text/plain": [
              "0"
            ]
          },
          "metadata": {
            "tags": []
          },
          "execution_count": 55
        }
      ]
    },
    {
      "cell_type": "code",
      "metadata": {
        "colab": {
          "base_uri": "https://localhost:8080/"
        },
        "id": "ok5mROvwBqkX",
        "outputId": "2429212d-51b2-4cbf-c3d5-927e3b4f0649"
      },
      "source": [
        "lst"
      ],
      "execution_count": null,
      "outputs": [
        {
          "output_type": "execute_result",
          "data": {
            "text/plain": [
              "[0, 1, 2, 3, 4, 5, 6, 7, 8, 9]"
            ]
          },
          "metadata": {
            "tags": []
          },
          "execution_count": 56
        }
      ]
    },
    {
      "cell_type": "code",
      "metadata": {
        "id": "eDFODIChka3T"
      },
      "source": [
        "lst[0]=100\n",
        "\n"
      ],
      "execution_count": null,
      "outputs": []
    },
    {
      "cell_type": "code",
      "metadata": {
        "colab": {
          "base_uri": "https://localhost:8080/"
        },
        "id": "KkTNMQmEB2Ei",
        "outputId": "1c5a3f95-e156-49ab-c5c5-80a2c1453224"
      },
      "source": [
        "lst"
      ],
      "execution_count": null,
      "outputs": [
        {
          "output_type": "execute_result",
          "data": {
            "text/plain": [
              "[100, 1, 2, 3, 4, 5, 6, 7, 8, 9]"
            ]
          },
          "metadata": {
            "tags": []
          },
          "execution_count": 58
        }
      ]
    },
    {
      "cell_type": "code",
      "metadata": {
        "id": "BKnujjRxBpli"
      },
      "source": [
        "list3"
      ],
      "execution_count": null,
      "outputs": []
    },
    {
      "cell_type": "code",
      "metadata": {
        "id": "zHgY10VokoDe",
        "colab": {
          "base_uri": "https://localhost:8080/"
        },
        "outputId": "10fe789a-405f-46fb-e901-382accde3f6b"
      },
      "source": [
        "list3[::-2]"
      ],
      "execution_count": null,
      "outputs": [
        {
          "output_type": "execute_result",
          "data": {
            "text/plain": [
              "[9, 7, 5, 3, 1]"
            ]
          },
          "metadata": {
            "tags": []
          },
          "execution_count": 23
        }
      ]
    },
    {
      "cell_type": "markdown",
      "metadata": {
        "id": "xIbq2FiWZRJ6"
      },
      "source": [
        "\n",
        "# Dictionaries\n",
        "***\n",
        "Now we're going to switch gears and learn about *mappings* in Python. If you're familiar with other languages you can think of these Dictionaries as hash tables. \n",
        "\n",
        "This section will serve as a brief introduction to dictionaries and consist of:\n",
        "\n",
        "    1.) Constructing a Dictionary\n",
        "    2.) Accessing objects from a dictionary\n",
        "  \n",
        "\n",
        "So what are mappings? Mappings are a collection of objects that are stored by a *key*, unlike a sequence that stored objects by their relative position. This is an important distinction, since mappings won't retain order since they have objects defined by a key.\n",
        "\n",
        "A Python dictionary consists of a key and then an associated value. That value can be almost any Python object.\n",
        "\n",
        "\n",
        "## Constructing a Dictionary\n",
        "Let's see how we can construct dictionaries to get a better understanding of how they work!"
      ]
    },
    {
      "cell_type": "markdown",
      "metadata": {
        "id": "d_eGhLwaZRJ7"
      },
      "source": [
        "### Instructions\n",
        "* Create a dictionary of `'key1' : 'value1'` and `'key2' : 'value2'` and save it as `my_dict`\n",
        "* Access value by their `key`"
      ]
    },
    {
      "cell_type": "code",
      "metadata": {
        "id": "AWrFysIDZRJ8",
        "colab": {
          "base_uri": "https://localhost:8080/"
        },
        "outputId": "13ca674b-9ca3-487e-b377-a97bc0856625"
      },
      "source": [
        "# Make a dictionary with {} and : to signify a key and a value\n",
        "my_dict={'key1' : 'value1','key2' : 'value2'}\n",
        "my_dict\n",
        "# Call values by their key\n"
      ],
      "execution_count": null,
      "outputs": [
        {
          "output_type": "execute_result",
          "data": {
            "text/plain": [
              "{'key1': 'value1', 'key2': 'value2'}"
            ]
          },
          "metadata": {
            "tags": []
          },
          "execution_count": 59
        }
      ]
    },
    {
      "cell_type": "code",
      "metadata": {
        "id": "wpNrchQrmMdZ",
        "colab": {
          "base_uri": "https://localhost:8080/",
          "height": 35
        },
        "outputId": "385ebfea-1f43-418b-a224-f626e73e2a0f"
      },
      "source": [
        "my_dict[\"key1\"]"
      ],
      "execution_count": null,
      "outputs": [
        {
          "output_type": "execute_result",
          "data": {
            "application/vnd.google.colaboratory.intrinsic+json": {
              "type": "string"
            },
            "text/plain": [
              "'value1'"
            ]
          },
          "metadata": {
            "tags": []
          },
          "execution_count": 60
        }
      ]
    },
    {
      "cell_type": "code",
      "metadata": {
        "id": "58e7LthxmY5W",
        "colab": {
          "base_uri": "https://localhost:8080/"
        },
        "outputId": "3e431ae8-81df-456d-da62-7f6237a9d06b"
      },
      "source": [
        "my_dict[\"key2\"]=\"changed val\"\n",
        "my_dict"
      ],
      "execution_count": null,
      "outputs": [
        {
          "output_type": "execute_result",
          "data": {
            "text/plain": [
              "{'key1': 'value1', 'key2': 'changed val'}"
            ]
          },
          "metadata": {
            "tags": []
          },
          "execution_count": 63
        }
      ]
    },
    {
      "cell_type": "markdown",
      "metadata": {
        "id": "Al46bC5EZRJ_"
      },
      "source": [
        "![image.png](data:image/png;base64,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)\n",
        "\n",
        "# Tuples\n",
        "***\n",
        "In Python tuples are very similar to lists, however, unlike lists they are *immutable* meaning they can not be changed. You would use tuples to present things that shouldn't be changed, such as days of the week, or dates on a calendar. \n",
        "\n",
        "In this section, we will get a brief overview of the following:\n",
        "\n",
        "    1.) Constructing Tuples\n",
        "    2.) Basic Tuple Methods\n",
        "    3.) Immutability\n",
        "    4.) When to Use Tuples.\n",
        "\n",
        "You'll have an intuition of how to use tuples based on what you've learned about lists. We can treat them very similarly with the major distinction being that tuples are immutable.\n",
        "\n",
        "## Constructing Tuples\n",
        "\n",
        "The construction of a tuples use () with elements separated by commas. For example:"
      ]
    },
    {
      "cell_type": "markdown",
      "metadata": {
        "id": "t5pDHL-DZRKA"
      },
      "source": [
        "### Instructions\n",
        "* Create a tuple and store the value as `1,2.3,'New York'` in variable `t`\n",
        "* Print `t`\n",
        "* Print type of `t`\n",
        "* Access the third element from `t`"
      ]
    },
    {
      "cell_type": "code",
      "metadata": {
        "ExecuteTime": {
          "end_time": "2017-09-25T05:47:45.662927Z",
          "start_time": "2017-09-25T05:47:45.654794Z"
        },
        "id": "4DKVAOnzZRKB",
        "colab": {
          "base_uri": "https://localhost:8080/"
        },
        "outputId": "386cb385-77a4-4339-d63e-f5d273e972eb"
      },
      "source": [
        "t=(1,2.3,'New York')\n",
        "t"
      ],
      "execution_count": null,
      "outputs": [
        {
          "output_type": "execute_result",
          "data": {
            "text/plain": [
              "(1, 2.3, 'New York')"
            ]
          },
          "metadata": {
            "tags": []
          },
          "execution_count": 64
        }
      ]
    },
    {
      "cell_type": "code",
      "metadata": {
        "id": "ir68fWAVm975",
        "colab": {
          "base_uri": "https://localhost:8080/"
        },
        "outputId": "22133349-617a-472c-e0eb-e4d7054c72e1"
      },
      "source": [
        "type(t)"
      ],
      "execution_count": null,
      "outputs": [
        {
          "output_type": "execute_result",
          "data": {
            "text/plain": [
              "tuple"
            ]
          },
          "metadata": {
            "tags": []
          },
          "execution_count": 65
        }
      ]
    },
    {
      "cell_type": "code",
      "metadata": {
        "id": "og7b5r9gnCfx",
        "colab": {
          "base_uri": "https://localhost:8080/"
        },
        "outputId": "12fdcfb8-c6a0-4171-81f3-61955b540381"
      },
      "source": [
        "t[0]"
      ],
      "execution_count": null,
      "outputs": [
        {
          "output_type": "execute_result",
          "data": {
            "text/plain": [
              "1"
            ]
          },
          "metadata": {
            "tags": []
          },
          "execution_count": 66
        }
      ]
    },
    {
      "cell_type": "markdown",
      "metadata": {
        "id": "3hqK0iqsZRKI"
      },
      "source": [
        "### Instructions\n",
        "* Create a tuple and store the value as `1,2,3` in variable `t1` also create another tuple with `7,8,` and save it as `t2`\n",
        "* Add `t1` and `t2`"
      ]
    },
    {
      "cell_type": "code",
      "metadata": {
        "ExecuteTime": {
          "end_time": "2017-09-20T09:42:28.369230Z",
          "start_time": "2017-09-20T09:42:28.349436Z"
        },
        "id": "4M_3uZbwZRKJ"
      },
      "source": [
        "# add two tuples\n",
        "t1=3,4,5"
      ],
      "execution_count": null,
      "outputs": []
    },
    {
      "cell_type": "code",
      "metadata": {
        "id": "fgiAJIIbnoW3",
        "colab": {
          "base_uri": "https://localhost:8080/"
        },
        "outputId": "f9b842b1-d5fe-4ec7-9063-844edf38a7e0"
      },
      "source": [
        "t1"
      ],
      "execution_count": null,
      "outputs": [
        {
          "output_type": "execute_result",
          "data": {
            "text/plain": [
              "(3, 4, 5)"
            ]
          },
          "metadata": {
            "tags": []
          },
          "execution_count": 70
        }
      ]
    },
    {
      "cell_type": "code",
      "metadata": {
        "id": "bBEvMIQZnqYt",
        "colab": {
          "base_uri": "https://localhost:8080/"
        },
        "outputId": "499d5e5b-f47d-459c-c873-959bf52a96d5"
      },
      "source": [
        "type(t1)"
      ],
      "execution_count": null,
      "outputs": [
        {
          "output_type": "execute_result",
          "data": {
            "text/plain": [
              "tuple"
            ]
          },
          "metadata": {
            "tags": []
          },
          "execution_count": 71
        }
      ]
    },
    {
      "cell_type": "code",
      "metadata": {
        "id": "HiRRGdhXnqRZ"
      },
      "source": [
        ""
      ],
      "execution_count": null,
      "outputs": []
    },
    {
      "cell_type": "code",
      "metadata": {
        "id": "YJHC6_7worCO",
        "colab": {
          "base_uri": "https://localhost:8080/",
          "height": 162
        },
        "outputId": "1fc449c1-ae7d-4511-ee7d-5bf6ad795337"
      },
      "source": [
        "t[0]=23"
      ],
      "execution_count": null,
      "outputs": [
        {
          "output_type": "error",
          "ename": "TypeError",
          "evalue": "ignored",
          "traceback": [
            "\u001b[0;31m---------------------------------------------------------------------------\u001b[0m",
            "\u001b[0;31mTypeError\u001b[0m                                 Traceback (most recent call last)",
            "\u001b[0;32m<ipython-input-72-6bfb1052ae19>\u001b[0m in \u001b[0;36m<module>\u001b[0;34m()\u001b[0m\n\u001b[0;32m----> 1\u001b[0;31m \u001b[0mt\u001b[0m\u001b[0;34m[\u001b[0m\u001b[0;36m0\u001b[0m\u001b[0;34m]\u001b[0m\u001b[0;34m=\u001b[0m\u001b[0;36m23\u001b[0m\u001b[0;34m\u001b[0m\u001b[0;34m\u001b[0m\u001b[0m\n\u001b[0m",
            "\u001b[0;31mTypeError\u001b[0m: 'tuple' object does not support item assignment"
          ]
        }
      ]
    },
    {
      "cell_type": "markdown",
      "metadata": {
        "id": "YN-8x2f2pZ_-"
      },
      "source": [
        "# Project: Student Management System"
      ]
    },
    {
      "cell_type": "markdown",
      "metadata": {
        "id": "vmtjzBjHqObp"
      },
      "source": [
        "## Problem Statement\n",
        "You have been hired by the University of Data Science to manage their students' records. Your job is to create the student management system for the university. Let's try to build the system using basic Python operations.\n",
        "\n",
        "## Why solve this project?\n",
        "\n",
        "After completing this project, you will get to know how to solve basic Python problems. In this project, you will be applying the following concepts:\n",
        "\n",
        "* Mathematical operations\n",
        "* List operations\n",
        "* Dictionary operations\n",
        "* String indexing and formatting"
      ]
    },
    {
      "cell_type": "markdown",
      "metadata": {
        "id": "XVbTo4jHqf6B"
      },
      "source": [
        "# Prepare the Student Roster\n",
        "Let's create a new register by combining data from two classes while making some modifications to the register.\n",
        "\n",
        "### Instructions:\n",
        "* Create a `'class_1'` list and pass the elements `'Geoffrey Hinton','Andrew Ng','Sebastian Raschka','Yoshua Bengio'.`\n",
        "\n",
        "* Create a `'class_2'` list and pass the elements `'Hilary Mason','Carla Gentry','Corinna Cortes'.`\n",
        "\n",
        "* Concatenate the` 'class_1'` and `'class_2'` list. Store the values in a`'new_class'` variable.\n",
        "\n",
        "* Print the `'new_class'` variable to see the new list.\n",
        "\n",
        "* You can now see the students list.\n",
        "\n",
        "* Oops! Looks like we might have missed a student whose name is `Peter Warden`. Let's add him in the new register.\n",
        "\n",
        "* Add new element 'Peter Warden' in the `'new_class' `list.\n",
        "\n",
        "* Print `'new_class'` to see the updated list.\n",
        "\n",
        "* It seems like there could also be a wrong entry in the list whose name is `Carla Gentry`. Let's remove her from the register.\n",
        "\n",
        "* Remove the `'Carla Gentry'`element from the `'new_class'` list.\n",
        "\n",
        "* Print 'new_class' to see the updated list"
      ]
    },
    {
      "cell_type": "code",
      "metadata": {
        "id": "gVb1MOAvqa3r"
      },
      "source": [
        "class_1=['Geoffrey Hinton','Andrew Ng','Sebastian Raschka','Yoshua Bengio']"
      ],
      "execution_count": null,
      "outputs": []
    },
    {
      "cell_type": "code",
      "metadata": {
        "id": "dt5vpU7IpQAz"
      },
      "source": [
        "class_2=['Hilary Mason','Carla Gentry','Corinna Cortes']"
      ],
      "execution_count": null,
      "outputs": []
    },
    {
      "cell_type": "code",
      "metadata": {
        "id": "aZrqwO8xpP9v"
      },
      "source": [
        "new_class=class_1+class_2\n",
        "new_class"
      ],
      "execution_count": null,
      "outputs": []
    },
    {
      "cell_type": "code",
      "metadata": {
        "id": "9sEPWV3QpP6j"
      },
      "source": [
        "new_class.append(\"Peter Warden\")\n",
        "new_class"
      ],
      "execution_count": null,
      "outputs": []
    },
    {
      "cell_type": "code",
      "metadata": {
        "id": "0HN8ZR0ipP25"
      },
      "source": [
        "new_class.remove(\"Carla Gentry\")\n",
        "new_class"
      ],
      "execution_count": null,
      "outputs": []
    },
    {
      "cell_type": "code",
      "metadata": {
        "id": "-Y9hYeMFCV9S"
      },
      "source": [
        ""
      ],
      "execution_count": null,
      "outputs": []
    },
    {
      "cell_type": "markdown",
      "metadata": {
        "id": "INcfQBsOro1O"
      },
      "source": [
        "# Grade Please!\n",
        "Let's create a dictionary for Geoffrey Hinton in each subject to generate his progress report.\n",
        "\n",
        "### Instructions\n",
        "* Create a dictionary named '`courses`' using the keys and values given below\n",
        "\n",
        "\n",
        "![image.png](data:image/png;base64,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)\n",
        "\n",
        "* See the marks obtained in each subject.\n",
        "\n",
        "* Add all the marks scored out of 100 and store it in a variable named `'total'`.\n",
        "\n",
        "* Print `'total'`.\n",
        "\n",
        "* Calculate the 'percentage' scored by 'Geoffrey Hinton' where addition of all the subjects is 500.\n",
        "\n",
        "* Print the `'percentage'`."
      ]
    },
    {
      "cell_type": "code",
      "metadata": {
        "id": "6i0bazOpuULZ"
      },
      "source": [
        "courses={\"math\":65,\"English\":70,\"History\":80,\"French\":70,\"Science\":60}"
      ],
      "execution_count": null,
      "outputs": []
    },
    {
      "cell_type": "code",
      "metadata": {
        "id": "24-u11XiqhJA"
      },
      "source": [
        "math=courses[\"math\"]\n",
        "English=courses[\"English\"]\n",
        "English=courses[\"History\"]\n",
        "French=courses[\"French\"]\n",
        "Science=courses[\"Science\"]"
      ],
      "execution_count": null,
      "outputs": []
    },
    {
      "cell_type": "code",
      "metadata": {
        "id": "cgifDcneqhfV"
      },
      "source": [
        "math"
      ],
      "execution_count": null,
      "outputs": []
    },
    {
      "cell_type": "code",
      "metadata": {
        "id": "ybfusdc8qha_"
      },
      "source": [
        "total=math+English+English+French+Science\n",
        "total"
      ],
      "execution_count": null,
      "outputs": []
    },
    {
      "cell_type": "code",
      "metadata": {
        "id": "Gp8jgbtAqhGe"
      },
      "source": [
        "percentage=(total/500)*100"
      ],
      "execution_count": null,
      "outputs": []
    },
    {
      "cell_type": "code",
      "metadata": {
        "id": "aQCwE5lBqhDa"
      },
      "source": [
        "percentage"
      ],
      "execution_count": null,
      "outputs": []
    },
    {
      "cell_type": "code",
      "metadata": {
        "id": "EhjzojSxqg_a"
      },
      "source": [
        ""
      ],
      "execution_count": null,
      "outputs": []
    },
    {
      "cell_type": "markdown",
      "metadata": {
        "id": "0NmHxRk5sZQZ"
      },
      "source": [
        "# Kudos to the Math Genius!\n",
        "For the student who got the highest marks in this subject, the school has decided to award a scholarship. Let's check who performed best in mathematics from all the students who appeared for the test.\n",
        "\n",
        "### Instructions\n",
        "* Create a dictionary named 'mathematics' using the keys and values given below.\n",
        "\n",
        "\n",
        "![image.png](data:image/png;base64,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)\n",
        "\n",
        "# Example of max function:\n",
        "### calculate the max value\n",
        "\n",
        "max_marks_scored = max(courses,key = courses.get)\n",
        "\n",
        "print (max_marks_scored)\n",
        "\n",
        "\n",
        "Output>>  History\n",
        "\n",
        "\n",
        "* Find out the student with the highest marks in Mathematics and store it in a variable 'topper'."
      ]
    },
    {
      "cell_type": "code",
      "metadata": {
        "id": "Xx7G1SsWsdD2"
      },
      "source": [
        "new_class"
      ],
      "execution_count": null,
      "outputs": []
    },
    {
      "cell_type": "code",
      "metadata": {
        "id": "rHhJZGlbsset"
      },
      "source": [
        "mathematics={'Geoffrey Hinton':78,'Andrew Ng':95,'Sebastian Raschka':65,'Yoshua Bengio':50,'Hilary Mason':70,'Corinna Cortes':66,'Peter Warden':75}"
      ],
      "execution_count": null,
      "outputs": []
    },
    {
      "cell_type": "code",
      "metadata": {
        "id": "WY9WgNnAsbHy"
      },
      "source": [
        "topper=max(mathematics,key=mathematics.get)"
      ],
      "execution_count": null,
      "outputs": []
    },
    {
      "cell_type": "code",
      "metadata": {
        "id": "w1SbGhDVsbEo"
      },
      "source": [
        "topper"
      ],
      "execution_count": null,
      "outputs": []
    },
    {
      "cell_type": "code",
      "metadata": {
        "id": "ei9HOcSssbAh"
      },
      "source": [
        ""
      ],
      "execution_count": null,
      "outputs": []
    },
    {
      "cell_type": "markdown",
      "metadata": {
        "id": "tQjaXGoPt0tz"
      },
      "source": [
        "# Scholarship Certificate\n",
        "From the previous task, we know who is the 'Maths' topper in the class. You now have to print the name of the student on the certificate, but you will have to print his last name and then his first name.\n",
        "\n",
        "### Instructions\n",
        "* String name `'topper'` with the Math topper's name is given.\n",
        "* Split the `'topper'` using the `\"split()\" `function and store the results in `'first_name'` and 'last_name'.\n",
        "* Display the full name concatenating + the strings `'last_name'` and `'first_name'` strings. Don't forget to add a whitespace character between them to avoid displaying them together and store it in a `full_name` variable .\n",
        "\n",
        "* Convert all the elements in the `'full_name'`string to uppercase, and store it to the `'certificate_name'` variable.\n",
        "* Print `'certificate_name'`."
      ]
    },
    {
      "cell_type": "code",
      "metadata": {
        "id": "BnvEwtvFuX1D"
      },
      "source": [
        "topper"
      ],
      "execution_count": null,
      "outputs": []
    },
    {
      "cell_type": "code",
      "metadata": {
        "id": "wAiBIpZOtlar"
      },
      "source": [
        "split=topper.split()"
      ],
      "execution_count": null,
      "outputs": []
    },
    {
      "cell_type": "code",
      "metadata": {
        "id": "qTa4pFlntlSZ"
      },
      "source": [
        "split"
      ],
      "execution_count": null,
      "outputs": []
    },
    {
      "cell_type": "code",
      "metadata": {
        "id": "ZnmyOszRtlOh"
      },
      "source": [
        "last_name=split[1]\n",
        "last_name"
      ],
      "execution_count": null,
      "outputs": []
    },
    {
      "cell_type": "code",
      "metadata": {
        "id": "xUXlT03Ztw64"
      },
      "source": [
        "first_name=split[0]\n",
        "first_name"
      ],
      "execution_count": null,
      "outputs": []
    },
    {
      "cell_type": "code",
      "metadata": {
        "id": "_vw23uAstxKo"
      },
      "source": [
        "full_name =last_name+\" \"+ first_name"
      ],
      "execution_count": null,
      "outputs": []
    },
    {
      "cell_type": "code",
      "metadata": {
        "id": "fUHfKfkJtxGE"
      },
      "source": [
        "full_name"
      ],
      "execution_count": null,
      "outputs": []
    },
    {
      "cell_type": "code",
      "metadata": {
        "id": "11yDpCbstw3a"
      },
      "source": [
        "certificate_name=full_name.upper()\n",
        "certificate_name"
      ],
      "execution_count": null,
      "outputs": []
    },
    {
      "cell_type": "markdown",
      "metadata": {
        "id": "TOw2Mt9FZRKQ"
      },
      "source": [
        "![image.png](data:image/png;base64,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)\n",
        "\n",
        "## Introduction to Data Science\n",
        "***\n",
        "```python\n",
        "1] True or false: Although machine learning is an interesting concept, there are limited business applications in which it is useful.\n",
        "\n",
        "2] True or false: Machine learning applications are too complex to run in the cloud.\n",
        "```"
      ]
    },
    {
      "cell_type": "markdown",
      "metadata": {
        "id": "NrIXbMBQZRKQ"
      },
      "source": [
        "![image.png](data:image/png;base64,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)\n",
        " \n",
        "## Getting Started with Python\n",
        "***\n",
        "1] Which of the following statements is true?\n",
        "```python\n",
        "* Python is a high level programming language.\n",
        "* Python is an interpreted language.\n",
        "* Python is an object-oriented language.\n",
        "* All of the above.\n",
        "```\n",
        "2] What is used to define a block of code (body of loop, function etc.) in Python?\n",
        "```python\n",
        "* Curly braces\n",
        "* Parenthesis\n",
        "* Indentation\n",
        "* Quotation\n",
        "```\n",
        "\n",
        "\n",
        "```\n",
        "3] What is used to define a block of code (body of loop, function etc.) in Python?\n",
        "```python\n",
        "* Comments are for programmers for better understanding of the program.\n",
        "* Python Interpreter ignores comment.\n",
        "* You can write multi-line comments in Python using triple quotes, either ''' or \"\"\".\n",
        "* All of the above\n",
        "```\n",
        "4] In the following code, n is a/an _______?\n",
        "```python\n",
        "n = '5'\n",
        "\n",
        "* integer\n",
        "* string\n",
        "* tuple\n",
        "* operator\n",
        "```"
      ]
    },
    {
      "cell_type": "markdown",
      "metadata": {
        "id": "3PqnAgu_ZRKR"
      },
      "source": [
        "# Further Reading\n",
        "\n",
        "- Official Python Documentation: https://docs.python.org/"
      ]
    },
    {
      "cell_type": "markdown",
      "metadata": {
        "collapsed": true,
        "id": "ZqDvMk1HZRKV"
      },
      "source": [
        "# Thank You\n",
        "***\n",
        "### Coming up next...\n",
        "\n",
        "- **NumPy**: Learn the basics of most numeric computation in Python\n",
        "\n"
      ]
    }
  ]
}